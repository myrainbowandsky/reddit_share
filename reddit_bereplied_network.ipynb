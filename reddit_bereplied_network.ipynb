{
 "cells": [
  {
   "cell_type": "code",
   "execution_count": 1,
   "id": "e17d93b7-07bb-4ec5-909e-c6530df803c0",
   "metadata": {},
   "outputs": [],
   "source": [
    "import pandas as pd\n",
    "import networkx as nx\n",
    "from tqdm import tqdm"
   ]
  },
  {
   "cell_type": "code",
   "execution_count": null,
   "id": "c54bb546-9ee5-4ef2-8ce6-668a236f69d8",
   "metadata": {},
   "outputs": [],
   "source": [
    "%%time\n",
    "dftemp=pd.read_csv('../PushshiftDumps/scripts/RC_2022-04.csv', lineterminator='\\n',index_col=0)"
   ]
  },
  {
   "cell_type": "code",
   "execution_count": null,
   "id": "cb298158-66da-41b2-a07a-0c08333061fa",
   "metadata": {},
   "outputs": [],
   "source": [
    "dftemp.reset_index(inplace=True)"
   ]
  },
  {
   "cell_type": "code",
   "execution_count": null,
   "id": "457d9699-0080-4a85-8790-600b9812ec7a",
   "metadata": {},
   "outputs": [],
   "source": [
    "%%time\n",
    "dftemp['id\\r']=dftemp['id\\r'].str.replace('\\r','')"
   ]
  },
  {
   "cell_type": "code",
   "execution_count": null,
   "id": "e5f3b679-2301-4791-8623-b82bafdc9eb6",
   "metadata": {},
   "outputs": [],
   "source": [
    "dftemp=dftemp.rename(columns={'id\\r':'id'})"
   ]
  },
  {
   "cell_type": "code",
   "execution_count": null,
   "id": "ef1f5626-2ac4-45b6-a8a9-361de7c5d0e3",
   "metadata": {},
   "outputs": [],
   "source": [
    "head=list(dftemp.columns)"
   ]
  },
  {
   "cell_type": "code",
   "execution_count": null,
   "id": "5c49a15b-492e-497c-9a8d-3f76f0571f35",
   "metadata": {},
   "outputs": [],
   "source": [
    "head[-1]='id'"
   ]
  },
  {
   "cell_type": "code",
   "execution_count": null,
   "id": "3e4e5f7b-34d9-4d2a-b5c8-a3119715cc79",
   "metadata": {},
   "outputs": [],
   "source": [
    "dftemp.columns=head"
   ]
  },
  {
   "cell_type": "code",
   "execution_count": null,
   "id": "13be5324-c54f-44fb-b1e9-ba0d01f6b191",
   "metadata": {},
   "outputs": [],
   "source": [
    "dftemp"
   ]
  },
  {
   "cell_type": "code",
   "execution_count": null,
   "id": "fa800a99-5577-4798-a935-d6fd3e2ce269",
   "metadata": {},
   "outputs": [],
   "source": [
    "%%time\n",
    "def process(df):\n",
    "    df=df[df['body']!='[deleted]']\n",
    "    \n",
    "    df=df[df['body']!='[removed]']\n",
    "    \n",
    "    df=df[df['author']!='[removed]']\n",
    "    \n",
    "    df=df[df['author']!='[deleted]']\n",
    "    \n",
    "    df=df[df['created_utc']!='created_utc']\n",
    "    return df\n",
    "\n",
    "import re\n",
    "tqdm.pandas(desc='bar')\n",
    "def remove_pre(_x):\n",
    "    try:\n",
    "        _match = re.search(r't[1]_(\\w+)', _x)\n",
    "        _result = _match.group(1)\n",
    "\n",
    "        return _result\n",
    "    except:\n",
    "        return ''\n",
    "\n"
   ]
  },
  {
   "cell_type": "code",
   "execution_count": null,
   "id": "8150fd75-93d7-485a-9e30-035f37f53c6b",
   "metadata": {},
   "outputs": [],
   "source": [
    "%%time\n",
    "dftemp=process(dftemp)"
   ]
  },
  {
   "cell_type": "code",
   "execution_count": null,
   "id": "cced3759-b928-4eab-b3ae-b765d593a06f",
   "metadata": {},
   "outputs": [],
   "source": [
    "%%time\n",
    "df1=dftemp[dftemp['parent_id'].str.startswith('t1')]"
   ]
  },
  {
   "cell_type": "code",
   "execution_count": null,
   "id": "a19c1a95-a712-43d6-8481-158ea6778919",
   "metadata": {},
   "outputs": [],
   "source": [
    "df1['parent_id']=df1['parent_id'].progress_apply(lambda x: remove_pre(x))"
   ]
  },
  {
   "cell_type": "code",
   "execution_count": null,
   "id": "00a12940-185f-4b29-98f9-34679a7ddd11",
   "metadata": {},
   "outputs": [],
   "source": [
    "df1.to_csv('df1_t1_only.csv',index=None)"
   ]
  },
  {
   "cell_type": "code",
   "execution_count": 83,
   "id": "b245219e-6742-46aa-8f5d-e5da9baa4665",
   "metadata": {},
   "outputs": [],
   "source": [
    "import pandas as pd\n",
    "df1=pd.read_csv('df1_t1_only.csv',lineterminator='\\n')"
   ]
  },
  {
   "cell_type": "code",
   "execution_count": 4,
   "id": "249c9ced-18b6-4e3e-8529-8db515581536",
   "metadata": {},
   "outputs": [
    {
     "name": "stdout",
     "output_type": "stream",
     "text": [
      "CPU times: user 1.44 s, sys: 457 ms, total: 1.89 s\n",
      "Wall time: 1.89 s\n"
     ]
    }
   ],
   "source": [
    "%%time\n",
    "df1['date'] = pd.to_datetime(df1['created_utc'], unit='s')"
   ]
  },
  {
   "cell_type": "code",
   "execution_count": null,
   "id": "4cf18baa-4bb4-4924-a5fb-b77f4e48c445",
   "metadata": {},
   "outputs": [],
   "source": []
  },
  {
   "cell_type": "code",
   "execution_count": 5,
   "id": "a6df1fa6-9027-43a8-9020-dc69083118f8",
   "metadata": {},
   "outputs": [],
   "source": [
    "ndf=df1[['author','parent_id',]].drop_duplicates()"
   ]
  },
  {
   "cell_type": "code",
   "execution_count": 88,
   "id": "73027a84-ffa8-42d6-930d-d18c3dabf0e1",
   "metadata": {},
   "outputs": [],
   "source": [
    "#df2=pd.read_csv('rc_df2.csv')"
   ]
  },
  {
   "cell_type": "code",
   "execution_count": 91,
   "id": "5d7abdb3-1076-4c5f-b109-9f57d8e0949f",
   "metadata": {},
   "outputs": [],
   "source": []
  },
  {
   "cell_type": "code",
   "execution_count": 94,
   "id": "1503b9d1-865c-4c09-9b15-bcdbe174dfe7",
   "metadata": {},
   "outputs": [],
   "source": [
    "dic=dict(zip(df1.id,df1.author))"
   ]
  },
  {
   "cell_type": "code",
   "execution_count": 120,
   "id": "2ee10dd7-8a7b-4d5d-b648-b148879da4b8",
   "metadata": {},
   "outputs": [],
   "source": [
    "import networkx as nx\n",
    "def reply_network(bot):\n",
    "    if lang=='en':\n",
    "        bot['Class']=bot['stance']+' '+bot['class']\n",
    "        dic_Class = dict(zip(bot.Id,bot.Class))\n",
    "        df3['id_Class']=df3['username'].map(dic_Class)\n",
    "        \n",
    "\n",
    "    if lang=='de':\n",
    "        dic_Class=dict(zip(bot.author,bot.Class))\n",
    "        df3['id_Class']=df3['author'].map(dic_Class)\n",
    "        \n",
    "    \n",
    "    df3['be_replied_id_Class']=df3['be_replid_user'].map(dic_Class)\n",
    "    \n",
    "    \n",
    "        #df3['be_replied_user_id']=df3[''\n",
    "        \n",
    "        \n",
    "    return df3"
   ]
  },
  {
   "cell_type": "code",
   "execution_count": 140,
   "id": "c2f1e45f-f49f-454c-a024-578fe7383110",
   "metadata": {
    "scrolled": true
   },
   "outputs": [],
   "source": [
    "lang='de'\n",
    "if lang=='en':\n",
    "    df2=pd.read_csv('test_Bucha_en.csv')\n",
    "    \n",
    "    df2['be_replid_user']=df2['reply_id'].map(dic)\n",
    "    \n",
    "    df3=df2[df2['be_replid_user'].notna()]\n",
    "    bot=pd.read_csv('test_label_Bucha_en.csv')#en\n",
    "elif lang=='de':\n",
    "    df2=pd.read_csv('test_Bucha_de.csv')\n",
    "    \n",
    "    df2['be_replid_user']=df2['parent_id'].map(dic)\n",
    "    \n",
    "    df3=df2[df2['be_replid_user'].notna()]\n",
    "    bot=pd.read_csv('label_file_de.csv')"
   ]
  },
  {
   "cell_type": "code",
   "execution_count": 97,
   "id": "ff45f9c0-71d1-4627-bf46-13379058d417",
   "metadata": {},
   "outputs": [],
   "source": [
    "#bot=pd.read_csv('botdf_id_gexf_human_bot_plus_autolabel.csv')"
   ]
  },
  {
   "cell_type": "code",
   "execution_count": 98,
   "id": "cb18e0bd-0835-4c11-9bd1-77724aed2c19",
   "metadata": {},
   "outputs": [],
   "source": [
    "#bot=pd.read_csv('test_label_Bucha_en.csv')#en"
   ]
  },
  {
   "cell_type": "code",
   "execution_count": 72,
   "id": "c53b441f-8a30-48ff-95ac-8586333f6a5d",
   "metadata": {},
   "outputs": [],
   "source": [
    "#bot=pd.read_csv('label_file_de.csv')#de"
   ]
  },
  {
   "cell_type": "code",
   "execution_count": 74,
   "id": "fee0ec4f-64ac-4e5f-9922-9af5b587b2e0",
   "metadata": {},
   "outputs": [],
   "source": [
    "'''def reply_network(bot):\n",
    "    if lang=='en':\n",
    "        bot['Class']=bot['stance']+' '+bot['class']\n",
    "        dic_Class = dict(zip(author.Id,bot.Class))\n",
    "        \n",
    "\n",
    "    if lang=='de':\n",
    "        dic_Class=dict(zip(bot.author,bot.Class))\n",
    "    df3['id_Class']=df3['username'].map(dic_Class)\n",
    "        \n",
    "    \n",
    "    df3['be_replied_id_Class']=df3['be_replid_user'].map(dic_Class)\n",
    "    \n",
    "    \n",
    "        #df3['be_replied_user_id']=df3[''\n",
    "        \n",
    "        \n",
    "    return df3'''"
   ]
  },
  {
   "cell_type": "code",
   "execution_count": 141,
   "id": "72f6cfd4-20e8-4659-b9dc-0f656c529daa",
   "metadata": {},
   "outputs": [
    {
     "name": "stderr",
     "output_type": "stream",
     "text": [
      "/tmp/ipykernel_3454936/4138362349.py:11: SettingWithCopyWarning: \n",
      "A value is trying to be set on a copy of a slice from a DataFrame.\n",
      "Try using .loc[row_indexer,col_indexer] = value instead\n",
      "\n",
      "See the caveats in the documentation: https://pandas.pydata.org/pandas-docs/stable/user_guide/indexing.html#returning-a-view-versus-a-copy\n",
      "  df3['id_Class']=df3['author'].map(dic_Class)\n",
      "/tmp/ipykernel_3454936/4138362349.py:14: SettingWithCopyWarning: \n",
      "A value is trying to be set on a copy of a slice from a DataFrame.\n",
      "Try using .loc[row_indexer,col_indexer] = value instead\n",
      "\n",
      "See the caveats in the documentation: https://pandas.pydata.org/pandas-docs/stable/user_guide/indexing.html#returning-a-view-versus-a-copy\n",
      "  df3['be_replied_id_Class']=df3['be_replid_user'].map(dic_Class)\n"
     ]
    }
   ],
   "source": [
    "#lang='de'\n",
    "df3=reply_network(bot)\n",
    "if lang=='en':\n",
    "    user='usernanme'\n",
    "elif lang=='de':\n",
    "    user='author'\n",
    "G=nx.from_pandas_edgelist(df3,user,'be_replid_user',create_using=nx.DiGraph())"
   ]
  },
  {
   "cell_type": "code",
   "execution_count": 142,
   "id": "6dfd9358-cec1-4adb-bae1-d1a6746f65df",
   "metadata": {},
   "outputs": [
    {
     "data": {
      "text/plain": [
       "<networkx.classes.digraph.DiGraph at 0x7fa52e1f4250>"
      ]
     },
     "execution_count": 142,
     "metadata": {},
     "output_type": "execute_result"
    }
   ],
   "source": [
    "nx.write_gexf(G,'test_'+lang+'_reply.gexf')\n",
    "\n",
    "nx.read_gexf('test_'+lang+'_reply.gexf')"
   ]
  },
  {
   "cell_type": "code",
   "execution_count": 125,
   "id": "0c07e137-e826-442e-a70c-a834fbd7e601",
   "metadata": {},
   "outputs": [],
   "source": [
    "#temp=df3[[user,'id_Class']]\n",
    "#temp.columns=['Id','Class']\n",
    "#temp.to_csv('test_'+lang+'_reply.csv',index=None)"
   ]
  },
  {
   "cell_type": "code",
   "execution_count": 144,
   "id": "399083d5-2d63-4e3f-8364-c67b88fc652f",
   "metadata": {},
   "outputs": [],
   "source": [
    "#lang='de'\n",
    "if lang=='en':\n",
    "    d=pd.read_csv('test_label_Bucha_en.csv')\n",
    "    d=d[['author','stance','class']]\n",
    "    d.columns=['Id','stance','class']\n",
    "    d.to_csv('test_'+lang+'_reply.csv',index=None)\n",
    "elif lang=='de':\n",
    "    d=pd.read_csv('label_file_de.csv')\n",
    "    d=d[['author','label_label','class']]\n",
    "    d.columns=['Id','stance','class']\n",
    "    d.to_csv('test_'+lang+'_reply.csv',index=None)\n",
    "    "
   ]
  }
 ],
 "metadata": {
  "kernelspec": {
   "display_name": "Python 3 (ipykernel)",
   "language": "python",
   "name": "python3"
  },
  "language_info": {
   "codemirror_mode": {
    "name": "ipython",
    "version": 3
   },
   "file_extension": ".py",
   "mimetype": "text/x-python",
   "name": "python",
   "nbconvert_exporter": "python",
   "pygments_lexer": "ipython3",
   "version": "3.10.13"
  }
 },
 "nbformat": 4,
 "nbformat_minor": 5
}
